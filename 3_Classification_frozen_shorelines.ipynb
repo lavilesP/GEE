{
  "nbformat": 4,
  "nbformat_minor": 0,
  "metadata": {
    "colab": {
      "name": "3-Classification.ipynb",
      "provenance": []
    },
    "kernelspec": {
      "name": "python3",
      "display_name": "Python 3"
    }
  },
  "cells": [
    {
      "cell_type": "markdown",
      "metadata": {
        "id": "A-fObiRS6xuW"
      },
      "source": [
        "# Machine learning in Earth Engine"
      ]
    },
    {
      "cell_type": "markdown",
      "metadata": {
        "id": "OQnuuo-36439"
      },
      "source": [
        "Machine Learning (ML) in Earth Engine is supported with Earth Engine API methods in the `ee.Classifier`, `ee.Clusterer`, or `ee.Reducer` packages for training and inference within Earth Engine.\n",
        "\n",
        "These are useful for approx. less than 400 images.\n",
        "\n",
        "If more, TensorFlow is the way to go.\n",
        "\n",
        "TensorFlow is developed and trained outside of Earth Engine, but Earth Engine provides the option to import and export data in [TFRecord](https://www.tensorflow.org/tutorials/load_data/tfrecord#tfrecords_format_details) format. This way, you can generate training datasets in Earth Engine.\n",
        "\n",
        "Due to time limitations, we are going to focus on Classifiers, but you should explore further in your own time!"
      ]
    },
    {
      "cell_type": "markdown",
      "metadata": {
        "id": "xPZHaqbJ8Gul"
      },
      "source": [
        "## Supervised classification algorithms"
      ]
    },
    {
      "cell_type": "markdown",
      "metadata": {
        "id": "cBZWDSsK8NfX"
      },
      "source": [
        "The `Classifier` package handles supervised classification by traditional Machine Learning (ML) algorithms running in Earth Engine.\n",
        "\n",
        "These classifiers include Classification and Regression Trees ([CART](https://towardsdatascience.com/https-medium-com-lorrli-classification-and-regression-analysis-with-decision-trees-c43cdbc58054)), [RandomForest](https://towardsdatascience.com/understanding-random-forest-58381e0602d2), [NaiveBayes](https://towardsdatascience.com/all-about-naive-bayes-8e13cef044cf) and Support Vector Machine ([SVM](https://towardsdatascience.com/support-vector-machines-svm-c9ef22815589))."
      ]
    },
    {
      "cell_type": "markdown",
      "metadata": {
        "id": "1KXnM8tu93fj"
      },
      "source": [
        "The way classification works is:\n",
        "\n",
        "\n",
        "\n",
        "*   Collect training data. Assemble features which have a property that stores the known class label and properties storing numeric values for the predictors.\n",
        "*   Instantiate a classifier. Set its parameters if necessary.\n",
        "*   Train the classifier using the training data.\n",
        "*   Classify an image or feature collection.\n",
        "*   Estimate classification error with independent validation data.\n",
        "\n"
      ]
    },
    {
      "cell_type": "code",
      "metadata": {
        "id": "XmD3dQUvD4nv",
        "colab": {
          "base_uri": "https://localhost:8080/"
        },
        "outputId": "40ff1b9b-cec4-486b-99bc-06f7ff2399d4"
      },
      "source": [
        "# Import earthengine API\n",
        "import ee\n",
        "# Authenticate and initialise\n",
        "ee.Authenticate()\n",
        "ee.Initialize()"
      ],
      "execution_count": 1,
      "outputs": [
        {
          "output_type": "stream",
          "name": "stdout",
          "text": [
            "To authorize access needed by Earth Engine, open the following URL in a web browser and follow the instructions. If the web browser does not start automatically, please manually browse the URL below.\n",
            "\n",
            "    https://code.earthengine.google.com/client-auth?scopes=https%3A//www.googleapis.com/auth/earthengine%20https%3A//www.googleapis.com/auth/devstorage.full_control&request_id=ilYTlytUPDVLg_37I9CDYWewlUiwc3-NoFULna6VAK4&tc=Z0_P_g4klLw_dUtLxEZhwTd4zNv12OD4TVAc6TXSyi0&cc=vPh4Q2VrAULlRxoadJKETdXfFoRvaLKhN7AXl0Uz64U\n",
            "\n",
            "The authorization workflow will generate a code, which you should paste in the box below.\n",
            "Enter verification code: 4/1AfJohXlqsmAgg_V1rLSBt0k8AokJWpFvK48LuCyg6rzAGUm-xa4eaC6fNjE\n",
            "\n",
            "Successfully saved authorization token.\n"
          ]
        }
      ]
    },
    {
      "cell_type": "code",
      "metadata": {
        "id": "AXEZqxl4-E6a"
      },
      "source": [
        "# Make a cloud-free Landsat 8 TOA composite (from raw imagery)\n",
        "l8 = ee.ImageCollection('LANDSAT/LC08/C01/T1')\n",
        "\n",
        "image = ee.Algorithms.Landsat.simpleComposite(l8.filterDate('2018-01-01', '2018-12-31'))#,asFloat='true')\n",
        "\n",
        "# Use these bands for prediction.\n",
        "bands = ['B2', 'B3', 'B4', 'B5', 'B6', 'B7', 'B10', 'B11']\n",
        "\n",
        "# Load training points. The numeric property 'class' stores known labels.\n",
        "points = ee.FeatureCollection('GOOGLE/EE/DEMOS/demo_landcover_labels')\n",
        "\n",
        "# This property stores the land cover labels as consecutive\n",
        "# integers starting from zero.\n",
        "label = 'landcover'\n",
        "\n",
        "# Overlay the points on the imagery to get training.\n",
        "training = image.select(bands).sampleRegions(points,properties=[label],scale=30)\n",
        "\n",
        "# Train a CART classifier with default parameters.\n",
        "trained = ee.Classifier.smileCart().train(training, label, bands)\n",
        "\n",
        "# Classify the image with the same bands used for training.\n",
        "classified = image.select(bands).classify(trained)\n"
      ],
      "execution_count": 6,
      "outputs": []
    },
    {
      "cell_type": "code",
      "metadata": {
        "id": "16af-yxDFx-r",
        "colab": {
          "base_uri": "https://localhost:8080/",
          "height": 1000
        },
        "outputId": "991cbd5a-0a5c-47d4-9086-a6f22c810650"
      },
      "source": [
        "# Plot the result\n",
        "\n",
        "import folium\n",
        "#!pip install geehydro # Life saver for plotting GEE stuff with Python!\n",
        "import geehydro\n",
        "#print(points.getInfo())\n",
        "# Use folium to visualize the imagery.\n",
        "map = folium.Map(location=[37.820452055421086,-122.27096557617189],zoom_start=11)\n",
        "\n",
        "map.addLayer(image, {'bands': ['B4', 'B3', 'B2']}, 'image')\n",
        "map.addLayer(classified, {'min':0, 'max':2, 'palette': ['red', 'green', 'blue']}, 'classification')\n",
        "folium.LayerControl().add_to(map)\n",
        "map\n"
      ],
      "execution_count": 7,
      "outputs": [
        {
          "output_type": "execute_result",
          "data": {
            "text/plain": [
              "<folium.folium.Map at 0x7c7c9a278580>"
            ],
            "text/html": [
              "<div style=\"width:100%;\"><div style=\"position:relative;width:100%;height:0;padding-bottom:60%;\"><span style=\"color:#565656\">Make this Notebook Trusted to load map: File -> Trust Notebook</span><iframe srcdoc=\"&lt;!DOCTYPE html&gt;\n",
              "&lt;html&gt;\n",
              "&lt;head&gt;\n",
              "    \n",
              "    &lt;meta http-equiv=&quot;content-type&quot; content=&quot;text/html; charset=UTF-8&quot; /&gt;\n",
              "    \n",
              "        &lt;script&gt;\n",
              "            L_NO_TOUCH = false;\n",
              "            L_DISABLE_3D = false;\n",
              "        &lt;/script&gt;\n",
              "    \n",
              "    &lt;style&gt;html, body {width: 100%;height: 100%;margin: 0;padding: 0;}&lt;/style&gt;\n",
              "    &lt;style&gt;#map {position:absolute;top:0;bottom:0;right:0;left:0;}&lt;/style&gt;\n",
              "    &lt;script src=&quot;https://cdn.jsdelivr.net/npm/leaflet@1.9.3/dist/leaflet.js&quot;&gt;&lt;/script&gt;\n",
              "    &lt;script src=&quot;https://code.jquery.com/jquery-1.12.4.min.js&quot;&gt;&lt;/script&gt;\n",
              "    &lt;script src=&quot;https://cdn.jsdelivr.net/npm/bootstrap@5.2.2/dist/js/bootstrap.bundle.min.js&quot;&gt;&lt;/script&gt;\n",
              "    &lt;script src=&quot;https://cdnjs.cloudflare.com/ajax/libs/Leaflet.awesome-markers/2.0.2/leaflet.awesome-markers.js&quot;&gt;&lt;/script&gt;\n",
              "    &lt;link rel=&quot;stylesheet&quot; href=&quot;https://cdn.jsdelivr.net/npm/leaflet@1.9.3/dist/leaflet.css&quot;/&gt;\n",
              "    &lt;link rel=&quot;stylesheet&quot; href=&quot;https://cdn.jsdelivr.net/npm/bootstrap@5.2.2/dist/css/bootstrap.min.css&quot;/&gt;\n",
              "    &lt;link rel=&quot;stylesheet&quot; href=&quot;https://netdna.bootstrapcdn.com/bootstrap/3.0.0/css/bootstrap.min.css&quot;/&gt;\n",
              "    &lt;link rel=&quot;stylesheet&quot; href=&quot;https://cdn.jsdelivr.net/npm/@fortawesome/fontawesome-free@6.2.0/css/all.min.css&quot;/&gt;\n",
              "    &lt;link rel=&quot;stylesheet&quot; href=&quot;https://cdnjs.cloudflare.com/ajax/libs/Leaflet.awesome-markers/2.0.2/leaflet.awesome-markers.css&quot;/&gt;\n",
              "    &lt;link rel=&quot;stylesheet&quot; href=&quot;https://cdn.jsdelivr.net/gh/python-visualization/folium/folium/templates/leaflet.awesome.rotate.min.css&quot;/&gt;\n",
              "    \n",
              "            &lt;meta name=&quot;viewport&quot; content=&quot;width=device-width,\n",
              "                initial-scale=1.0, maximum-scale=1.0, user-scalable=no&quot; /&gt;\n",
              "            &lt;style&gt;\n",
              "                #map_a022aa2ab23240e8049d589c16f3fd52 {\n",
              "                    position: relative;\n",
              "                    width: 100.0%;\n",
              "                    height: 100.0%;\n",
              "                    left: 0.0%;\n",
              "                    top: 0.0%;\n",
              "                }\n",
              "                .leaflet-container { font-size: 1rem; }\n",
              "            &lt;/style&gt;\n",
              "        \n",
              "&lt;/head&gt;\n",
              "&lt;body&gt;\n",
              "    \n",
              "    \n",
              "            &lt;div class=&quot;folium-map&quot; id=&quot;map_a022aa2ab23240e8049d589c16f3fd52&quot; &gt;&lt;/div&gt;\n",
              "        \n",
              "&lt;/body&gt;\n",
              "&lt;script&gt;\n",
              "    \n",
              "    \n",
              "            var map_a022aa2ab23240e8049d589c16f3fd52 = L.map(\n",
              "                &quot;map_a022aa2ab23240e8049d589c16f3fd52&quot;,\n",
              "                {\n",
              "                    center: [37.820452055421086, -122.27096557617189],\n",
              "                    crs: L.CRS.EPSG3857,\n",
              "                    zoom: 11,\n",
              "                    zoomControl: true,\n",
              "                    preferCanvas: false,\n",
              "                }\n",
              "            );\n",
              "\n",
              "            \n",
              "\n",
              "        \n",
              "    \n",
              "            var tile_layer_a9887a526b4aa759c1896486908da5fb = L.tileLayer(\n",
              "                &quot;https://{s}.tile.openstreetmap.org/{z}/{x}/{y}.png&quot;,\n",
              "                {&quot;attribution&quot;: &quot;Data by \\u0026copy; \\u003ca target=\\&quot;_blank\\&quot; href=\\&quot;http://openstreetmap.org\\&quot;\\u003eOpenStreetMap\\u003c/a\\u003e, under \\u003ca target=\\&quot;_blank\\&quot; href=\\&quot;http://www.openstreetmap.org/copyright\\&quot;\\u003eODbL\\u003c/a\\u003e.&quot;, &quot;detectRetina&quot;: false, &quot;maxNativeZoom&quot;: 18, &quot;maxZoom&quot;: 18, &quot;minZoom&quot;: 0, &quot;noWrap&quot;: false, &quot;opacity&quot;: 1, &quot;subdomains&quot;: &quot;abc&quot;, &quot;tms&quot;: false}\n",
              "            ).addTo(map_a022aa2ab23240e8049d589c16f3fd52);\n",
              "        \n",
              "    \n",
              "            var tile_layer_c55d58b7b75f895a8636e0f31b43cba7 = L.tileLayer(\n",
              "                &quot;https://earthengine.googleapis.com/v1/projects/earthengine-legacy/maps/94e7b54b6253b77b5fd3bb501eee32a9-c143b443a9b7e2f6fc97adefdf949714/tiles/{z}/{x}/{y}&quot;,\n",
              "                {&quot;attribution&quot;: &quot;Google Earth Engine&quot;, &quot;detectRetina&quot;: false, &quot;maxNativeZoom&quot;: 18, &quot;maxZoom&quot;: 18, &quot;minZoom&quot;: 0, &quot;noWrap&quot;: false, &quot;opacity&quot;: 1, &quot;subdomains&quot;: &quot;abc&quot;, &quot;tms&quot;: false}\n",
              "            ).addTo(map_a022aa2ab23240e8049d589c16f3fd52);\n",
              "        \n",
              "    \n",
              "            var tile_layer_42e7c42b1df4de10b8b4e87cee1539b7 = L.tileLayer(\n",
              "                &quot;https://earthengine.googleapis.com/v1/projects/earthengine-legacy/maps/77f256990ea072a3d969a7a9add32a34-84a8b8f91e9c66eb9aa7b098595530de/tiles/{z}/{x}/{y}&quot;,\n",
              "                {&quot;attribution&quot;: &quot;Google Earth Engine&quot;, &quot;detectRetina&quot;: false, &quot;maxNativeZoom&quot;: 18, &quot;maxZoom&quot;: 18, &quot;minZoom&quot;: 0, &quot;noWrap&quot;: false, &quot;opacity&quot;: 1, &quot;subdomains&quot;: &quot;abc&quot;, &quot;tms&quot;: false}\n",
              "            ).addTo(map_a022aa2ab23240e8049d589c16f3fd52);\n",
              "        \n",
              "    \n",
              "            var layer_control_544001643e7d73b083f149294c2a5edb = {\n",
              "                base_layers : {\n",
              "                    &quot;openstreetmap&quot; : tile_layer_a9887a526b4aa759c1896486908da5fb,\n",
              "                },\n",
              "                overlays :  {\n",
              "                    &quot;image&quot; : tile_layer_c55d58b7b75f895a8636e0f31b43cba7,\n",
              "                    &quot;classification&quot; : tile_layer_42e7c42b1df4de10b8b4e87cee1539b7,\n",
              "                },\n",
              "            };\n",
              "            L.control.layers(\n",
              "                layer_control_544001643e7d73b083f149294c2a5edb.base_layers,\n",
              "                layer_control_544001643e7d73b083f149294c2a5edb.overlays,\n",
              "                {&quot;autoZIndex&quot;: true, &quot;collapsed&quot;: true, &quot;position&quot;: &quot;topright&quot;}\n",
              "            ).addTo(map_a022aa2ab23240e8049d589c16f3fd52);\n",
              "        \n",
              "&lt;/script&gt;\n",
              "&lt;/html&gt;\" style=\"position:absolute;width:100%;height:100%;left:0;top:0;border:none !important;\" allowfullscreen webkitallowfullscreen mozallowfullscreen></iframe></div></div>"
            ]
          },
          "metadata": {},
          "execution_count": 7
        }
      ]
    },
    {
      "cell_type": "markdown",
      "metadata": {
        "id": "waAv_U9FI9k0"
      },
      "source": [
        "Note that the training property (`'landcover'`) stores consecutive integers starting at 0 (Use `remap()` on your table to turn your class labels into consecutive integers starting at zero if necessary).\n",
        "\n",
        "If the training data are polygons representing homogenous regions, every pixel in each polygon is a training point. You can use polygons to train as illustrated in the following example:"
      ]
    },
    {
      "cell_type": "code",
      "metadata": {
        "id": "YbGbywJXJDsP"
      },
      "source": [
        "# Make a cloud-free Landsat 8 TOA composite (from raw imagery).\n",
        "l8 = ee.ImageCollection('LANDSAT/LC08/C01/T1')\n",
        "\n",
        "image = ee.Algorithms.Landsat.simpleComposite(l8.filterDate('2018-01-01', '2018-12-31'))\n",
        "\n",
        "# Use these bands for prediction.\n",
        "bands = ['B2', 'B3', 'B4', 'B5', 'B6', 'B7', 'B10', 'B11']\n",
        "\n",
        "# Manually created polygons.\n",
        "forest1 = ee.Geometry.Rectangle(-63.0187, -9.3958, -62.9793, -9.3443)\n",
        "forest2 = ee.Geometry.Rectangle(-62.8145, -9.206, -62.7688, -9.1735)\n",
        "nonForest1 = ee.Geometry.Rectangle(-62.8161, -9.5001, -62.7921, -9.4486)\n",
        "nonForest2 = ee.Geometry.Rectangle(-62.6788, -9.044, -62.6459, -8.9986)\n",
        "\n",
        "# Make a FeatureCollection from the hand-made geometries.\n",
        "polygons = ee.FeatureCollection([\n",
        "  ee.Feature(nonForest1, {'class': 0}),\n",
        "  ee.Feature(nonForest2, {'class': 0}),\n",
        "  ee.Feature(forest1, {'class': 1}),\n",
        "  ee.Feature(forest2, {'class': 1}),\n",
        "])\n",
        "\n",
        "# Get the values for all pixels in each polygon in the training.\n",
        "  # Get the sample from the polygons FeatureCollection.\n",
        "  # Keep this list of properties from the polygons.\n",
        "  # Set the scale to get Landsat pixels in the polygons.\n",
        "training = image.sampleRegions(polygons, properties= ['class'], scale= 30)\n",
        "\n",
        "# Create an SVM classifier with custom parameters.\n",
        "# RBF = Radial Basis Function kernel\n",
        "classifier = ee.Classifier.libsvm(kernelType='RBF',gamma= 0.5,cost= 10)\n",
        "\n",
        "# Train the classifier.\n",
        "trained = classifier.train(training, 'class', bands);\n",
        "\n",
        "# Classify one image.\n",
        "\n",
        "classified = image.classify(trained)\n",
        "\n",
        "# Redude the region to plot it without issues\n",
        "\n",
        "roi = ee.Geometry.Rectangle([-62.836, -9.2399, -8, -61]);\n",
        "classified_reduced = classified.clip(roi)\n"
      ],
      "execution_count": null,
      "outputs": []
    },
    {
      "cell_type": "code",
      "metadata": {
        "id": "Q9UbYEN8mlgR",
        "colab": {
          "base_uri": "https://localhost:8080/",
          "height": 247
        },
        "outputId": "7e7d08b8-da4c-41b1-b6a6-81f5f71f558c"
      },
      "source": [
        "# Plot the result\n",
        "\n",
        "map = folium.Map(location=[-9.2399,-62.836],zoom_start=9)\n",
        "\n",
        "map.addLayer(image, {'bands': ['B4', 'B3', 'B2']}, 'image')\n",
        "map.addLayer(polygons, {}, 'training polygons')\n",
        "map.addLayer(classified_reduced, {'min': 0, 'max': 1, 'palette': ['red', 'green']}, 'deforestation') # Probably wont be able to plot it!\n",
        "folium.LayerControl().add_to(map)\n",
        "map"
      ],
      "execution_count": null,
      "outputs": [
        {
          "output_type": "error",
          "ename": "AttributeError",
          "evalue": "ignored",
          "traceback": [
            "\u001b[0;31m---------------------------------------------------------------------------\u001b[0m",
            "\u001b[0;31mAttributeError\u001b[0m                            Traceback (most recent call last)",
            "\u001b[0;32m<ipython-input-5-5f19977ddbe6>\u001b[0m in \u001b[0;36m<cell line: 5>\u001b[0;34m()\u001b[0m\n\u001b[1;32m      3\u001b[0m \u001b[0mmap\u001b[0m \u001b[0;34m=\u001b[0m \u001b[0mfolium\u001b[0m\u001b[0;34m.\u001b[0m\u001b[0mMap\u001b[0m\u001b[0;34m(\u001b[0m\u001b[0mlocation\u001b[0m\u001b[0;34m=\u001b[0m\u001b[0;34m[\u001b[0m\u001b[0;34m-\u001b[0m\u001b[0;36m9.2399\u001b[0m\u001b[0;34m,\u001b[0m\u001b[0;34m-\u001b[0m\u001b[0;36m62.836\u001b[0m\u001b[0;34m]\u001b[0m\u001b[0;34m,\u001b[0m\u001b[0mzoom_start\u001b[0m\u001b[0;34m=\u001b[0m\u001b[0;36m9\u001b[0m\u001b[0;34m)\u001b[0m\u001b[0;34m\u001b[0m\u001b[0;34m\u001b[0m\u001b[0m\n\u001b[1;32m      4\u001b[0m \u001b[0;34m\u001b[0m\u001b[0m\n\u001b[0;32m----> 5\u001b[0;31m \u001b[0mmap\u001b[0m\u001b[0;34m.\u001b[0m\u001b[0maddLayer\u001b[0m\u001b[0;34m(\u001b[0m\u001b[0mimage\u001b[0m\u001b[0;34m,\u001b[0m \u001b[0;34m{\u001b[0m\u001b[0;34m'bands'\u001b[0m\u001b[0;34m:\u001b[0m \u001b[0;34m[\u001b[0m\u001b[0;34m'B4'\u001b[0m\u001b[0;34m,\u001b[0m \u001b[0;34m'B3'\u001b[0m\u001b[0;34m,\u001b[0m \u001b[0;34m'B2'\u001b[0m\u001b[0;34m]\u001b[0m\u001b[0;34m}\u001b[0m\u001b[0;34m,\u001b[0m \u001b[0;34m'image'\u001b[0m\u001b[0;34m)\u001b[0m\u001b[0;34m\u001b[0m\u001b[0;34m\u001b[0m\u001b[0m\n\u001b[0m\u001b[1;32m      6\u001b[0m \u001b[0mmap\u001b[0m\u001b[0;34m.\u001b[0m\u001b[0maddLayer\u001b[0m\u001b[0;34m(\u001b[0m\u001b[0mpolygons\u001b[0m\u001b[0;34m,\u001b[0m \u001b[0;34m{\u001b[0m\u001b[0;34m}\u001b[0m\u001b[0;34m,\u001b[0m \u001b[0;34m'training polygons'\u001b[0m\u001b[0;34m)\u001b[0m\u001b[0;34m\u001b[0m\u001b[0;34m\u001b[0m\u001b[0m\n\u001b[1;32m      7\u001b[0m \u001b[0mmap\u001b[0m\u001b[0;34m.\u001b[0m\u001b[0maddLayer\u001b[0m\u001b[0;34m(\u001b[0m\u001b[0mclassified_reduced\u001b[0m\u001b[0;34m,\u001b[0m \u001b[0;34m{\u001b[0m\u001b[0;34m'min'\u001b[0m\u001b[0;34m:\u001b[0m \u001b[0;36m0\u001b[0m\u001b[0;34m,\u001b[0m \u001b[0;34m'max'\u001b[0m\u001b[0;34m:\u001b[0m \u001b[0;36m1\u001b[0m\u001b[0;34m,\u001b[0m \u001b[0;34m'palette'\u001b[0m\u001b[0;34m:\u001b[0m \u001b[0;34m[\u001b[0m\u001b[0;34m'red'\u001b[0m\u001b[0;34m,\u001b[0m \u001b[0;34m'green'\u001b[0m\u001b[0;34m]\u001b[0m\u001b[0;34m}\u001b[0m\u001b[0;34m,\u001b[0m \u001b[0;34m'deforestation'\u001b[0m\u001b[0;34m)\u001b[0m \u001b[0;31m# Probably wont be able to plot it!\u001b[0m\u001b[0;34m\u001b[0m\u001b[0;34m\u001b[0m\u001b[0m\n",
            "\u001b[0;31mAttributeError\u001b[0m: 'Map' object has no attribute 'addLayer'"
          ]
        }
      ]
    },
    {
      "cell_type": "markdown",
      "metadata": {
        "id": "t8mms6Bd7CaE"
      },
      "source": [
        "## Unsupervised classification"
      ]
    },
    {
      "cell_type": "markdown",
      "metadata": {
        "id": "JfD47CRl7Fa6"
      },
      "source": [
        "The `ee.Clusterer` package handles unsupervised classification (or clustering) in Earth Engine. More details about each Clusterer are available in the [reference docs in the Code Editor](https://code.earthengine.google.com/#workspace).\n",
        "\n",
        "Clusterers are used in the same manner as classifiers in Earth Engine. The general workflow for clustering is:\n",
        "\n",
        "*  Assemble features with numeric properties in which to find clusters.\n",
        "*   Instantiate a clusterer. Set its parameters if necessary.\n",
        "*  Train the clusterer using the training data.\n",
        "* Apply the clusterer to an image or feature collection.\n",
        "* Label the clusters.\n",
        "\n",
        "\n",
        "The training data is a `FeatureCollection` with properties that will be input to the clusterer.\n",
        "\n",
        "Unlike classifiers, there is no input class value for a Clusterer.\n",
        "\n",
        "Like classifiers, the data for the train and apply steps are expected to have the same number of values. When a trained clusterer is applied to an image or table, it assigns an integer cluster ID to each pixel or feature.\n",
        "\n",
        "These algorithms are currently based on the algorithms with the same name in [Weka](https://www.cs.waikato.ac.nz/ml/weka/).\n",
        "\n",
        "Here is a simple example of building and using an `ee.Clusterer`:"
      ]
    },
    {
      "cell_type": "code",
      "source": [
        "# Load a pre-computed Landsat composite for input.\n",
        "input = ee.Image('LANDSAT/LE7_TOA_1YEAR/2005')\n",
        "\n",
        "# Define a region in which to generate a sample of the input.\n",
        "region = ee.Geometry.Rectangle(110, 70, 130, 77)\n",
        "\n",
        "# Display the sample region.\n",
        "\n",
        "map = folium.Map(location=[70,120],zoom_start=4)\n",
        "\n",
        "map.addLayer(ee.Image().paint(region, 0, 2), {}, 'region')\n",
        "map"
      ],
      "metadata": {
        "id": "yJ-Uhv2GNpfU",
        "outputId": "654eda5b-4637-4f5c-9c9a-c535daef8bfb",
        "colab": {
          "base_uri": "https://localhost:8080/",
          "height": 1000
        }
      },
      "execution_count": 5,
      "outputs": [
        {
          "output_type": "execute_result",
          "data": {
            "text/plain": [
              "<folium.folium.Map at 0x7c7c9a279150>"
            ],
            "text/html": [
              "<div style=\"width:100%;\"><div style=\"position:relative;width:100%;height:0;padding-bottom:60%;\"><span style=\"color:#565656\">Make this Notebook Trusted to load map: File -> Trust Notebook</span><iframe srcdoc=\"&lt;!DOCTYPE html&gt;\n",
              "&lt;html&gt;\n",
              "&lt;head&gt;\n",
              "    \n",
              "    &lt;meta http-equiv=&quot;content-type&quot; content=&quot;text/html; charset=UTF-8&quot; /&gt;\n",
              "    \n",
              "        &lt;script&gt;\n",
              "            L_NO_TOUCH = false;\n",
              "            L_DISABLE_3D = false;\n",
              "        &lt;/script&gt;\n",
              "    \n",
              "    &lt;style&gt;html, body {width: 100%;height: 100%;margin: 0;padding: 0;}&lt;/style&gt;\n",
              "    &lt;style&gt;#map {position:absolute;top:0;bottom:0;right:0;left:0;}&lt;/style&gt;\n",
              "    &lt;script src=&quot;https://cdn.jsdelivr.net/npm/leaflet@1.9.3/dist/leaflet.js&quot;&gt;&lt;/script&gt;\n",
              "    &lt;script src=&quot;https://code.jquery.com/jquery-1.12.4.min.js&quot;&gt;&lt;/script&gt;\n",
              "    &lt;script src=&quot;https://cdn.jsdelivr.net/npm/bootstrap@5.2.2/dist/js/bootstrap.bundle.min.js&quot;&gt;&lt;/script&gt;\n",
              "    &lt;script src=&quot;https://cdnjs.cloudflare.com/ajax/libs/Leaflet.awesome-markers/2.0.2/leaflet.awesome-markers.js&quot;&gt;&lt;/script&gt;\n",
              "    &lt;link rel=&quot;stylesheet&quot; href=&quot;https://cdn.jsdelivr.net/npm/leaflet@1.9.3/dist/leaflet.css&quot;/&gt;\n",
              "    &lt;link rel=&quot;stylesheet&quot; href=&quot;https://cdn.jsdelivr.net/npm/bootstrap@5.2.2/dist/css/bootstrap.min.css&quot;/&gt;\n",
              "    &lt;link rel=&quot;stylesheet&quot; href=&quot;https://netdna.bootstrapcdn.com/bootstrap/3.0.0/css/bootstrap.min.css&quot;/&gt;\n",
              "    &lt;link rel=&quot;stylesheet&quot; href=&quot;https://cdn.jsdelivr.net/npm/@fortawesome/fontawesome-free@6.2.0/css/all.min.css&quot;/&gt;\n",
              "    &lt;link rel=&quot;stylesheet&quot; href=&quot;https://cdnjs.cloudflare.com/ajax/libs/Leaflet.awesome-markers/2.0.2/leaflet.awesome-markers.css&quot;/&gt;\n",
              "    &lt;link rel=&quot;stylesheet&quot; href=&quot;https://cdn.jsdelivr.net/gh/python-visualization/folium/folium/templates/leaflet.awesome.rotate.min.css&quot;/&gt;\n",
              "    \n",
              "            &lt;meta name=&quot;viewport&quot; content=&quot;width=device-width,\n",
              "                initial-scale=1.0, maximum-scale=1.0, user-scalable=no&quot; /&gt;\n",
              "            &lt;style&gt;\n",
              "                #map_8c7e7f40dccb5651e2352105a0d4c7b8 {\n",
              "                    position: relative;\n",
              "                    width: 100.0%;\n",
              "                    height: 100.0%;\n",
              "                    left: 0.0%;\n",
              "                    top: 0.0%;\n",
              "                }\n",
              "                .leaflet-container { font-size: 1rem; }\n",
              "            &lt;/style&gt;\n",
              "        \n",
              "&lt;/head&gt;\n",
              "&lt;body&gt;\n",
              "    \n",
              "    \n",
              "            &lt;div class=&quot;folium-map&quot; id=&quot;map_8c7e7f40dccb5651e2352105a0d4c7b8&quot; &gt;&lt;/div&gt;\n",
              "        \n",
              "&lt;/body&gt;\n",
              "&lt;script&gt;\n",
              "    \n",
              "    \n",
              "            var map_8c7e7f40dccb5651e2352105a0d4c7b8 = L.map(\n",
              "                &quot;map_8c7e7f40dccb5651e2352105a0d4c7b8&quot;,\n",
              "                {\n",
              "                    center: [70.0, 120.0],\n",
              "                    crs: L.CRS.EPSG3857,\n",
              "                    zoom: 4,\n",
              "                    zoomControl: true,\n",
              "                    preferCanvas: false,\n",
              "                }\n",
              "            );\n",
              "\n",
              "            \n",
              "\n",
              "        \n",
              "    \n",
              "            var tile_layer_164fd34a3026996d536559fa9b80d7d0 = L.tileLayer(\n",
              "                &quot;https://{s}.tile.openstreetmap.org/{z}/{x}/{y}.png&quot;,\n",
              "                {&quot;attribution&quot;: &quot;Data by \\u0026copy; \\u003ca target=\\&quot;_blank\\&quot; href=\\&quot;http://openstreetmap.org\\&quot;\\u003eOpenStreetMap\\u003c/a\\u003e, under \\u003ca target=\\&quot;_blank\\&quot; href=\\&quot;http://www.openstreetmap.org/copyright\\&quot;\\u003eODbL\\u003c/a\\u003e.&quot;, &quot;detectRetina&quot;: false, &quot;maxNativeZoom&quot;: 18, &quot;maxZoom&quot;: 18, &quot;minZoom&quot;: 0, &quot;noWrap&quot;: false, &quot;opacity&quot;: 1, &quot;subdomains&quot;: &quot;abc&quot;, &quot;tms&quot;: false}\n",
              "            ).addTo(map_8c7e7f40dccb5651e2352105a0d4c7b8);\n",
              "        \n",
              "    \n",
              "            var tile_layer_a66047f6f6e5da42e4c5e6ab092f628b = L.tileLayer(\n",
              "                &quot;https://earthengine.googleapis.com/v1/projects/earthengine-legacy/maps/e8098062ae02a17876a707f319552912-64c964a82f9f1e77b7052b2d488b086a/tiles/{z}/{x}/{y}&quot;,\n",
              "                {&quot;attribution&quot;: &quot;Google Earth Engine&quot;, &quot;detectRetina&quot;: false, &quot;maxNativeZoom&quot;: 18, &quot;maxZoom&quot;: 18, &quot;minZoom&quot;: 0, &quot;noWrap&quot;: false, &quot;opacity&quot;: 1, &quot;subdomains&quot;: &quot;abc&quot;, &quot;tms&quot;: false}\n",
              "            ).addTo(map_8c7e7f40dccb5651e2352105a0d4c7b8);\n",
              "        \n",
              "&lt;/script&gt;\n",
              "&lt;/html&gt;\" style=\"position:absolute;width:100%;height:100%;left:0;top:0;border:none !important;\" allowfullscreen webkitallowfullscreen mozallowfullscreen></iframe></div></div>"
            ]
          },
          "metadata": {},
          "execution_count": 5
        }
      ]
    },
    {
      "cell_type": "code",
      "source": [
        "# Make the training dataset.\n",
        "training = input.sample(region = region,scale= 30,  numPixels= 5000)\n",
        "\n",
        "# Instantiate the clusterer and train it.\n",
        "clusterer = ee.Clusterer.wekaKMeans(5).train(training)\n",
        "\n",
        "# Cluster the input using the trained clusterer.\n",
        "result = input.cluster(clusterer)\n",
        "\n",
        "# Display the clusters with random colors.\n",
        "\n",
        "map.addLayer(result.randomVisualizer(), {}, 'clusters')\n",
        "folium.LayerControl().add_to(map)\n",
        "map\n"
      ],
      "metadata": {
        "id": "rzWedsLqOUKb",
        "outputId": "d3306724-74bd-41bb-ee2b-f0ec88e45a46",
        "colab": {
          "base_uri": "https://localhost:8080/",
          "height": 1000
        }
      },
      "execution_count": 24,
      "outputs": [
        {
          "output_type": "execute_result",
          "data": {
            "text/plain": [
              "<folium.folium.Map at 0x7c7c9a0f08e0>"
            ],
            "text/html": [
              "<div style=\"width:100%;\"><div style=\"position:relative;width:100%;height:0;padding-bottom:60%;\"><span style=\"color:#565656\">Make this Notebook Trusted to load map: File -> Trust Notebook</span><iframe srcdoc=\"&lt;!DOCTYPE html&gt;\n",
              "&lt;html&gt;\n",
              "&lt;head&gt;\n",
              "    \n",
              "    &lt;meta http-equiv=&quot;content-type&quot; content=&quot;text/html; charset=UTF-8&quot; /&gt;\n",
              "    \n",
              "        &lt;script&gt;\n",
              "            L_NO_TOUCH = false;\n",
              "            L_DISABLE_3D = false;\n",
              "        &lt;/script&gt;\n",
              "    \n",
              "    &lt;style&gt;html, body {width: 100%;height: 100%;margin: 0;padding: 0;}&lt;/style&gt;\n",
              "    &lt;style&gt;#map {position:absolute;top:0;bottom:0;right:0;left:0;}&lt;/style&gt;\n",
              "    &lt;script src=&quot;https://cdn.jsdelivr.net/npm/leaflet@1.9.3/dist/leaflet.js&quot;&gt;&lt;/script&gt;\n",
              "    &lt;script src=&quot;https://code.jquery.com/jquery-1.12.4.min.js&quot;&gt;&lt;/script&gt;\n",
              "    &lt;script src=&quot;https://cdn.jsdelivr.net/npm/bootstrap@5.2.2/dist/js/bootstrap.bundle.min.js&quot;&gt;&lt;/script&gt;\n",
              "    &lt;script src=&quot;https://cdnjs.cloudflare.com/ajax/libs/Leaflet.awesome-markers/2.0.2/leaflet.awesome-markers.js&quot;&gt;&lt;/script&gt;\n",
              "    &lt;link rel=&quot;stylesheet&quot; href=&quot;https://cdn.jsdelivr.net/npm/leaflet@1.9.3/dist/leaflet.css&quot;/&gt;\n",
              "    &lt;link rel=&quot;stylesheet&quot; href=&quot;https://cdn.jsdelivr.net/npm/bootstrap@5.2.2/dist/css/bootstrap.min.css&quot;/&gt;\n",
              "    &lt;link rel=&quot;stylesheet&quot; href=&quot;https://netdna.bootstrapcdn.com/bootstrap/3.0.0/css/bootstrap.min.css&quot;/&gt;\n",
              "    &lt;link rel=&quot;stylesheet&quot; href=&quot;https://cdn.jsdelivr.net/npm/@fortawesome/fontawesome-free@6.2.0/css/all.min.css&quot;/&gt;\n",
              "    &lt;link rel=&quot;stylesheet&quot; href=&quot;https://cdnjs.cloudflare.com/ajax/libs/Leaflet.awesome-markers/2.0.2/leaflet.awesome-markers.css&quot;/&gt;\n",
              "    &lt;link rel=&quot;stylesheet&quot; href=&quot;https://cdn.jsdelivr.net/gh/python-visualization/folium/folium/templates/leaflet.awesome.rotate.min.css&quot;/&gt;\n",
              "    \n",
              "            &lt;meta name=&quot;viewport&quot; content=&quot;width=device-width,\n",
              "                initial-scale=1.0, maximum-scale=1.0, user-scalable=no&quot; /&gt;\n",
              "            &lt;style&gt;\n",
              "                #map_77153563ca1f9b58901892e1f186a0f0 {\n",
              "                    position: relative;\n",
              "                    width: 100.0%;\n",
              "                    height: 100.0%;\n",
              "                    left: 0.0%;\n",
              "                    top: 0.0%;\n",
              "                }\n",
              "                .leaflet-container { font-size: 1rem; }\n",
              "            &lt;/style&gt;\n",
              "        \n",
              "&lt;/head&gt;\n",
              "&lt;body&gt;\n",
              "    \n",
              "    \n",
              "            &lt;div class=&quot;folium-map&quot; id=&quot;map_77153563ca1f9b58901892e1f186a0f0&quot; &gt;&lt;/div&gt;\n",
              "        \n",
              "&lt;/body&gt;\n",
              "&lt;script&gt;\n",
              "    \n",
              "    \n",
              "            var map_77153563ca1f9b58901892e1f186a0f0 = L.map(\n",
              "                &quot;map_77153563ca1f9b58901892e1f186a0f0&quot;,\n",
              "                {\n",
              "                    center: [70.0, 122.0],\n",
              "                    crs: L.CRS.EPSG3857,\n",
              "                    zoom: 5,\n",
              "                    zoomControl: true,\n",
              "                    preferCanvas: false,\n",
              "                }\n",
              "            );\n",
              "\n",
              "            \n",
              "\n",
              "        \n",
              "    \n",
              "            var tile_layer_27fb757a57fb456a712c1232083eab07 = L.tileLayer(\n",
              "                &quot;https://{s}.tile.openstreetmap.org/{z}/{x}/{y}.png&quot;,\n",
              "                {&quot;attribution&quot;: &quot;Data by \\u0026copy; \\u003ca target=\\&quot;_blank\\&quot; href=\\&quot;http://openstreetmap.org\\&quot;\\u003eOpenStreetMap\\u003c/a\\u003e, under \\u003ca target=\\&quot;_blank\\&quot; href=\\&quot;http://www.openstreetmap.org/copyright\\&quot;\\u003eODbL\\u003c/a\\u003e.&quot;, &quot;detectRetina&quot;: false, &quot;maxNativeZoom&quot;: 18, &quot;maxZoom&quot;: 18, &quot;minZoom&quot;: 0, &quot;noWrap&quot;: false, &quot;opacity&quot;: 1, &quot;subdomains&quot;: &quot;abc&quot;, &quot;tms&quot;: false}\n",
              "            ).addTo(map_77153563ca1f9b58901892e1f186a0f0);\n",
              "        \n",
              "    \n",
              "            var tile_layer_ad42bce153c9b6b79c46f2693521fd97 = L.tileLayer(\n",
              "                &quot;https://earthengine.googleapis.com/v1/projects/earthengine-legacy/maps/4fb054f1e054ccd2aac853ba8816bcfd-bd1eff26c0cda65db56a63c351331b67/tiles/{z}/{x}/{y}&quot;,\n",
              "                {&quot;attribution&quot;: &quot;Google Earth Engine&quot;, &quot;detectRetina&quot;: false, &quot;maxNativeZoom&quot;: 18, &quot;maxZoom&quot;: 18, &quot;minZoom&quot;: 0, &quot;noWrap&quot;: false, &quot;opacity&quot;: 1, &quot;subdomains&quot;: &quot;abc&quot;, &quot;tms&quot;: false}\n",
              "            ).addTo(map_77153563ca1f9b58901892e1f186a0f0);\n",
              "        \n",
              "    \n",
              "            var tile_layer_0c5b41606cb11a51b6980b8304d834db = L.tileLayer(\n",
              "                &quot;https://earthengine.googleapis.com/v1/projects/earthengine-legacy/maps/e02d7037e179631ab78ae89ffc6c00b5-6c736f1bb5b5d38ff5f982af9da37b85/tiles/{z}/{x}/{y}&quot;,\n",
              "                {&quot;attribution&quot;: &quot;Google Earth Engine&quot;, &quot;detectRetina&quot;: false, &quot;maxNativeZoom&quot;: 18, &quot;maxZoom&quot;: 18, &quot;minZoom&quot;: 0, &quot;noWrap&quot;: false, &quot;opacity&quot;: 1, &quot;subdomains&quot;: &quot;abc&quot;, &quot;tms&quot;: false}\n",
              "            ).addTo(map_77153563ca1f9b58901892e1f186a0f0);\n",
              "        \n",
              "    \n",
              "            var layer_control_1bebcaeae9564e6a5f33093c041d5d36 = {\n",
              "                base_layers : {\n",
              "                    &quot;openstreetmap&quot; : tile_layer_27fb757a57fb456a712c1232083eab07,\n",
              "                },\n",
              "                overlays :  {\n",
              "                    &quot;median&quot; : tile_layer_ad42bce153c9b6b79c46f2693521fd97,\n",
              "                    &quot;clusters&quot; : tile_layer_0c5b41606cb11a51b6980b8304d834db,\n",
              "                },\n",
              "            };\n",
              "            L.control.layers(\n",
              "                layer_control_1bebcaeae9564e6a5f33093c041d5d36.base_layers,\n",
              "                layer_control_1bebcaeae9564e6a5f33093c041d5d36.overlays,\n",
              "                {&quot;autoZIndex&quot;: true, &quot;collapsed&quot;: true, &quot;position&quot;: &quot;topright&quot;}\n",
              "            ).addTo(map_77153563ca1f9b58901892e1f186a0f0);\n",
              "        \n",
              "&lt;/script&gt;\n",
              "&lt;/html&gt;\" style=\"position:absolute;width:100%;height:100%;left:0;top:0;border:none !important;\" allowfullscreen webkitallowfullscreen mozallowfullscreen></iframe></div></div>"
            ]
          },
          "metadata": {},
          "execution_count": 24
        }
      ]
    },
    {
      "cell_type": "code",
      "source": [
        "# Load landsat\n",
        "\n",
        "collection= ee.ImageCollection('LANDSAT/LC08/C02/T1_TOA').filter(ee.Filter.calendarRange(12,2,'month')).filterBounds(ee.Geometry.Rectangle(110,70,130,77)).filterMetadata('CLOUD_COVER','less_than',10)\n",
        "\n",
        "count = collection.size()\n",
        "print('Number of images in collection:', str(count.getInfo())+'\\n')"
      ],
      "metadata": {
        "id": "DoGglLLePFr7",
        "outputId": "559abd63-163e-46e1-ce71-cff631aff5f6",
        "colab": {
          "base_uri": "https://localhost:8080/"
        }
      },
      "execution_count": 22,
      "outputs": [
        {
          "output_type": "stream",
          "name": "stdout",
          "text": [
            "Number of images in collection: 224\n",
            "\n"
          ]
        }
      ]
    },
    {
      "cell_type": "code",
      "source": [
        "median = collection.median();\n",
        "\n",
        "map = folium.Map(location=[70,122],zoom_start=5)\n",
        "map.addLayer(median, {'bands': ['B2','B3','B4'],'min': 0,  'max': 1,}, 'median')\n",
        "map"
      ],
      "metadata": {
        "id": "Ibj6x899QDV9",
        "outputId": "5fd748ce-1167-4a8f-b57e-a6ad278ad69e",
        "colab": {
          "base_uri": "https://localhost:8080/",
          "height": 1000
        }
      },
      "execution_count": 23,
      "outputs": [
        {
          "output_type": "execute_result",
          "data": {
            "text/plain": [
              "<folium.folium.Map at 0x7c7c9a0f08e0>"
            ],
            "text/html": [
              "<div style=\"width:100%;\"><div style=\"position:relative;width:100%;height:0;padding-bottom:60%;\"><span style=\"color:#565656\">Make this Notebook Trusted to load map: File -> Trust Notebook</span><iframe srcdoc=\"&lt;!DOCTYPE html&gt;\n",
              "&lt;html&gt;\n",
              "&lt;head&gt;\n",
              "    \n",
              "    &lt;meta http-equiv=&quot;content-type&quot; content=&quot;text/html; charset=UTF-8&quot; /&gt;\n",
              "    \n",
              "        &lt;script&gt;\n",
              "            L_NO_TOUCH = false;\n",
              "            L_DISABLE_3D = false;\n",
              "        &lt;/script&gt;\n",
              "    \n",
              "    &lt;style&gt;html, body {width: 100%;height: 100%;margin: 0;padding: 0;}&lt;/style&gt;\n",
              "    &lt;style&gt;#map {position:absolute;top:0;bottom:0;right:0;left:0;}&lt;/style&gt;\n",
              "    &lt;script src=&quot;https://cdn.jsdelivr.net/npm/leaflet@1.9.3/dist/leaflet.js&quot;&gt;&lt;/script&gt;\n",
              "    &lt;script src=&quot;https://code.jquery.com/jquery-1.12.4.min.js&quot;&gt;&lt;/script&gt;\n",
              "    &lt;script src=&quot;https://cdn.jsdelivr.net/npm/bootstrap@5.2.2/dist/js/bootstrap.bundle.min.js&quot;&gt;&lt;/script&gt;\n",
              "    &lt;script src=&quot;https://cdnjs.cloudflare.com/ajax/libs/Leaflet.awesome-markers/2.0.2/leaflet.awesome-markers.js&quot;&gt;&lt;/script&gt;\n",
              "    &lt;link rel=&quot;stylesheet&quot; href=&quot;https://cdn.jsdelivr.net/npm/leaflet@1.9.3/dist/leaflet.css&quot;/&gt;\n",
              "    &lt;link rel=&quot;stylesheet&quot; href=&quot;https://cdn.jsdelivr.net/npm/bootstrap@5.2.2/dist/css/bootstrap.min.css&quot;/&gt;\n",
              "    &lt;link rel=&quot;stylesheet&quot; href=&quot;https://netdna.bootstrapcdn.com/bootstrap/3.0.0/css/bootstrap.min.css&quot;/&gt;\n",
              "    &lt;link rel=&quot;stylesheet&quot; href=&quot;https://cdn.jsdelivr.net/npm/@fortawesome/fontawesome-free@6.2.0/css/all.min.css&quot;/&gt;\n",
              "    &lt;link rel=&quot;stylesheet&quot; href=&quot;https://cdnjs.cloudflare.com/ajax/libs/Leaflet.awesome-markers/2.0.2/leaflet.awesome-markers.css&quot;/&gt;\n",
              "    &lt;link rel=&quot;stylesheet&quot; href=&quot;https://cdn.jsdelivr.net/gh/python-visualization/folium/folium/templates/leaflet.awesome.rotate.min.css&quot;/&gt;\n",
              "    \n",
              "            &lt;meta name=&quot;viewport&quot; content=&quot;width=device-width,\n",
              "                initial-scale=1.0, maximum-scale=1.0, user-scalable=no&quot; /&gt;\n",
              "            &lt;style&gt;\n",
              "                #map_77153563ca1f9b58901892e1f186a0f0 {\n",
              "                    position: relative;\n",
              "                    width: 100.0%;\n",
              "                    height: 100.0%;\n",
              "                    left: 0.0%;\n",
              "                    top: 0.0%;\n",
              "                }\n",
              "                .leaflet-container { font-size: 1rem; }\n",
              "            &lt;/style&gt;\n",
              "        \n",
              "&lt;/head&gt;\n",
              "&lt;body&gt;\n",
              "    \n",
              "    \n",
              "            &lt;div class=&quot;folium-map&quot; id=&quot;map_77153563ca1f9b58901892e1f186a0f0&quot; &gt;&lt;/div&gt;\n",
              "        \n",
              "&lt;/body&gt;\n",
              "&lt;script&gt;\n",
              "    \n",
              "    \n",
              "            var map_77153563ca1f9b58901892e1f186a0f0 = L.map(\n",
              "                &quot;map_77153563ca1f9b58901892e1f186a0f0&quot;,\n",
              "                {\n",
              "                    center: [70.0, 122.0],\n",
              "                    crs: L.CRS.EPSG3857,\n",
              "                    zoom: 5,\n",
              "                    zoomControl: true,\n",
              "                    preferCanvas: false,\n",
              "                }\n",
              "            );\n",
              "\n",
              "            \n",
              "\n",
              "        \n",
              "    \n",
              "            var tile_layer_27fb757a57fb456a712c1232083eab07 = L.tileLayer(\n",
              "                &quot;https://{s}.tile.openstreetmap.org/{z}/{x}/{y}.png&quot;,\n",
              "                {&quot;attribution&quot;: &quot;Data by \\u0026copy; \\u003ca target=\\&quot;_blank\\&quot; href=\\&quot;http://openstreetmap.org\\&quot;\\u003eOpenStreetMap\\u003c/a\\u003e, under \\u003ca target=\\&quot;_blank\\&quot; href=\\&quot;http://www.openstreetmap.org/copyright\\&quot;\\u003eODbL\\u003c/a\\u003e.&quot;, &quot;detectRetina&quot;: false, &quot;maxNativeZoom&quot;: 18, &quot;maxZoom&quot;: 18, &quot;minZoom&quot;: 0, &quot;noWrap&quot;: false, &quot;opacity&quot;: 1, &quot;subdomains&quot;: &quot;abc&quot;, &quot;tms&quot;: false}\n",
              "            ).addTo(map_77153563ca1f9b58901892e1f186a0f0);\n",
              "        \n",
              "    \n",
              "            var tile_layer_ad42bce153c9b6b79c46f2693521fd97 = L.tileLayer(\n",
              "                &quot;https://earthengine.googleapis.com/v1/projects/earthengine-legacy/maps/4fb054f1e054ccd2aac853ba8816bcfd-bd1eff26c0cda65db56a63c351331b67/tiles/{z}/{x}/{y}&quot;,\n",
              "                {&quot;attribution&quot;: &quot;Google Earth Engine&quot;, &quot;detectRetina&quot;: false, &quot;maxNativeZoom&quot;: 18, &quot;maxZoom&quot;: 18, &quot;minZoom&quot;: 0, &quot;noWrap&quot;: false, &quot;opacity&quot;: 1, &quot;subdomains&quot;: &quot;abc&quot;, &quot;tms&quot;: false}\n",
              "            ).addTo(map_77153563ca1f9b58901892e1f186a0f0);\n",
              "        \n",
              "&lt;/script&gt;\n",
              "&lt;/html&gt;\" style=\"position:absolute;width:100%;height:100%;left:0;top:0;border:none !important;\" allowfullscreen webkitallowfullscreen mozallowfullscreen></iframe></div></div>"
            ]
          },
          "metadata": {},
          "execution_count": 23
        }
      ]
    },
    {
      "cell_type": "code",
      "source": [],
      "metadata": {
        "id": "PAMVjImQQ3LX"
      },
      "execution_count": null,
      "outputs": []
    }
  ]
}